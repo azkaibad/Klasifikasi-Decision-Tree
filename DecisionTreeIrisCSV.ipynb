{
  "nbformat": 4,
  "nbformat_minor": 0,
  "metadata": {
    "colab": {
      "provenance": [],
      "authorship_tag": "ABX9TyO8KioDiy0VwIGQLdKA7Lf/",
      "include_colab_link": true
    },
    "kernelspec": {
      "name": "python3",
      "display_name": "Python 3"
    },
    "language_info": {
      "name": "python"
    }
  },
  "cells": [
    {
      "cell_type": "markdown",
      "metadata": {
        "id": "view-in-github",
        "colab_type": "text"
      },
      "source": [
        "<a href=\"https://colab.research.google.com/github/azkaibad/Klasifikasi-Decision-Tree/blob/main/DecisionTreeIrisCSV.ipynb\" target=\"_parent\"><img src=\"https://colab.research.google.com/assets/colab-badge.svg\" alt=\"Open In Colab\"/></a>"
      ]
    },
    {
      "cell_type": "code",
      "execution_count": 1,
      "metadata": {
        "id": "gN7P-HQhJvN_"
      },
      "outputs": [],
      "source": [
        "import numpy as np\n",
        "import pandas as pd\n",
        "from sklearn import tree"
      ]
    },
    {
      "cell_type": "code",
      "source": [
        "irisDataset = pd.read_csv('Dataset Iris.csv', delimiter=';', header=0)"
      ],
      "metadata": {
        "id": "VT_3sblEJ_HC"
      },
      "execution_count": 2,
      "outputs": []
    },
    {
      "cell_type": "code",
      "source": [
        "irisDataset.head()"
      ],
      "metadata": {
        "colab": {
          "base_uri": "https://localhost:8080/",
          "height": 206
        },
        "id": "GM6KmY9DK7NT",
        "outputId": "78570491-278e-44d9-f277-ac50c639cadd"
      },
      "execution_count": 3,
      "outputs": [
        {
          "output_type": "execute_result",
          "data": {
            "text/plain": [
              "   Id  SepalLengthCm  SepalWidthCm  PetalLengthCm  PetalWidthCm  \\\n",
              "0   1           4.09          2.05           4.05          1.07   \n",
              "1   2           6.01          3.00           4.06          1.04   \n",
              "2   3           6.03          2.07           4.09          1.08   \n",
              "3   4           5.08          2.07           3.09          1.02   \n",
              "4   5           6.04          2.07           5.03          1.09   \n",
              "\n",
              "           Species  \n",
              "0   Iris-virginica  \n",
              "1  Iris-versicolor  \n",
              "2   Iris-virginica  \n",
              "3  Iris-versicolor  \n",
              "4   Iris-virginica  "
            ],
            "text/html": [
              "\n",
              "  <div id=\"df-402f1ced-c70b-475c-b52f-6fb1f3c9f769\">\n",
              "    <div class=\"colab-df-container\">\n",
              "      <div>\n",
              "<style scoped>\n",
              "    .dataframe tbody tr th:only-of-type {\n",
              "        vertical-align: middle;\n",
              "    }\n",
              "\n",
              "    .dataframe tbody tr th {\n",
              "        vertical-align: top;\n",
              "    }\n",
              "\n",
              "    .dataframe thead th {\n",
              "        text-align: right;\n",
              "    }\n",
              "</style>\n",
              "<table border=\"1\" class=\"dataframe\">\n",
              "  <thead>\n",
              "    <tr style=\"text-align: right;\">\n",
              "      <th></th>\n",
              "      <th>Id</th>\n",
              "      <th>SepalLengthCm</th>\n",
              "      <th>SepalWidthCm</th>\n",
              "      <th>PetalLengthCm</th>\n",
              "      <th>PetalWidthCm</th>\n",
              "      <th>Species</th>\n",
              "    </tr>\n",
              "  </thead>\n",
              "  <tbody>\n",
              "    <tr>\n",
              "      <th>0</th>\n",
              "      <td>1</td>\n",
              "      <td>4.09</td>\n",
              "      <td>2.05</td>\n",
              "      <td>4.05</td>\n",
              "      <td>1.07</td>\n",
              "      <td>Iris-virginica</td>\n",
              "    </tr>\n",
              "    <tr>\n",
              "      <th>1</th>\n",
              "      <td>2</td>\n",
              "      <td>6.01</td>\n",
              "      <td>3.00</td>\n",
              "      <td>4.06</td>\n",
              "      <td>1.04</td>\n",
              "      <td>Iris-versicolor</td>\n",
              "    </tr>\n",
              "    <tr>\n",
              "      <th>2</th>\n",
              "      <td>3</td>\n",
              "      <td>6.03</td>\n",
              "      <td>2.07</td>\n",
              "      <td>4.09</td>\n",
              "      <td>1.08</td>\n",
              "      <td>Iris-virginica</td>\n",
              "    </tr>\n",
              "    <tr>\n",
              "      <th>3</th>\n",
              "      <td>4</td>\n",
              "      <td>5.08</td>\n",
              "      <td>2.07</td>\n",
              "      <td>3.09</td>\n",
              "      <td>1.02</td>\n",
              "      <td>Iris-versicolor</td>\n",
              "    </tr>\n",
              "    <tr>\n",
              "      <th>4</th>\n",
              "      <td>5</td>\n",
              "      <td>6.04</td>\n",
              "      <td>2.07</td>\n",
              "      <td>5.03</td>\n",
              "      <td>1.09</td>\n",
              "      <td>Iris-virginica</td>\n",
              "    </tr>\n",
              "  </tbody>\n",
              "</table>\n",
              "</div>\n",
              "      <button class=\"colab-df-convert\" onclick=\"convertToInteractive('df-402f1ced-c70b-475c-b52f-6fb1f3c9f769')\"\n",
              "              title=\"Convert this dataframe to an interactive table.\"\n",
              "              style=\"display:none;\">\n",
              "        \n",
              "  <svg xmlns=\"http://www.w3.org/2000/svg\" height=\"24px\"viewBox=\"0 0 24 24\"\n",
              "       width=\"24px\">\n",
              "    <path d=\"M0 0h24v24H0V0z\" fill=\"none\"/>\n",
              "    <path d=\"M18.56 5.44l.94 2.06.94-2.06 2.06-.94-2.06-.94-.94-2.06-.94 2.06-2.06.94zm-11 1L8.5 8.5l.94-2.06 2.06-.94-2.06-.94L8.5 2.5l-.94 2.06-2.06.94zm10 10l.94 2.06.94-2.06 2.06-.94-2.06-.94-.94-2.06-.94 2.06-2.06.94z\"/><path d=\"M17.41 7.96l-1.37-1.37c-.4-.4-.92-.59-1.43-.59-.52 0-1.04.2-1.43.59L10.3 9.45l-7.72 7.72c-.78.78-.78 2.05 0 2.83L4 21.41c.39.39.9.59 1.41.59.51 0 1.02-.2 1.41-.59l7.78-7.78 2.81-2.81c.8-.78.8-2.07 0-2.86zM5.41 20L4 18.59l7.72-7.72 1.47 1.35L5.41 20z\"/>\n",
              "  </svg>\n",
              "      </button>\n",
              "      \n",
              "  <style>\n",
              "    .colab-df-container {\n",
              "      display:flex;\n",
              "      flex-wrap:wrap;\n",
              "      gap: 12px;\n",
              "    }\n",
              "\n",
              "    .colab-df-convert {\n",
              "      background-color: #E8F0FE;\n",
              "      border: none;\n",
              "      border-radius: 50%;\n",
              "      cursor: pointer;\n",
              "      display: none;\n",
              "      fill: #1967D2;\n",
              "      height: 32px;\n",
              "      padding: 0 0 0 0;\n",
              "      width: 32px;\n",
              "    }\n",
              "\n",
              "    .colab-df-convert:hover {\n",
              "      background-color: #E2EBFA;\n",
              "      box-shadow: 0px 1px 2px rgba(60, 64, 67, 0.3), 0px 1px 3px 1px rgba(60, 64, 67, 0.15);\n",
              "      fill: #174EA6;\n",
              "    }\n",
              "\n",
              "    [theme=dark] .colab-df-convert {\n",
              "      background-color: #3B4455;\n",
              "      fill: #D2E3FC;\n",
              "    }\n",
              "\n",
              "    [theme=dark] .colab-df-convert:hover {\n",
              "      background-color: #434B5C;\n",
              "      box-shadow: 0px 1px 3px 1px rgba(0, 0, 0, 0.15);\n",
              "      filter: drop-shadow(0px 1px 2px rgba(0, 0, 0, 0.3));\n",
              "      fill: #FFFFFF;\n",
              "    }\n",
              "  </style>\n",
              "\n",
              "      <script>\n",
              "        const buttonEl =\n",
              "          document.querySelector('#df-402f1ced-c70b-475c-b52f-6fb1f3c9f769 button.colab-df-convert');\n",
              "        buttonEl.style.display =\n",
              "          google.colab.kernel.accessAllowed ? 'block' : 'none';\n",
              "\n",
              "        async function convertToInteractive(key) {\n",
              "          const element = document.querySelector('#df-402f1ced-c70b-475c-b52f-6fb1f3c9f769');\n",
              "          const dataTable =\n",
              "            await google.colab.kernel.invokeFunction('convertToInteractive',\n",
              "                                                     [key], {});\n",
              "          if (!dataTable) return;\n",
              "\n",
              "          const docLinkHtml = 'Like what you see? Visit the ' +\n",
              "            '<a target=\"_blank\" href=https://colab.research.google.com/notebooks/data_table.ipynb>data table notebook</a>'\n",
              "            + ' to learn more about interactive tables.';\n",
              "          element.innerHTML = '';\n",
              "          dataTable['output_type'] = 'display_data';\n",
              "          await google.colab.output.renderOutput(dataTable, element);\n",
              "          const docLink = document.createElement('div');\n",
              "          docLink.innerHTML = docLinkHtml;\n",
              "          element.appendChild(docLink);\n",
              "        }\n",
              "      </script>\n",
              "    </div>\n",
              "  </div>\n",
              "  "
            ]
          },
          "metadata": {},
          "execution_count": 3
        }
      ]
    },
    {
      "cell_type": "code",
      "source": [
        "irisDataset[\"Species\"] = pd.factorize(irisDataset.Species)[0]"
      ],
      "metadata": {
        "id": "WaIbbUYTKQb6"
      },
      "execution_count": 4,
      "outputs": []
    },
    {
      "cell_type": "code",
      "source": [
        "irisDataset.head()"
      ],
      "metadata": {
        "colab": {
          "base_uri": "https://localhost:8080/",
          "height": 206
        },
        "id": "s5QLuBd0K-gd",
        "outputId": "8246f0e7-92df-4840-b33a-bd4f304370c1"
      },
      "execution_count": 5,
      "outputs": [
        {
          "output_type": "execute_result",
          "data": {
            "text/plain": [
              "   Id  SepalLengthCm  SepalWidthCm  PetalLengthCm  PetalWidthCm  Species\n",
              "0   1           4.09          2.05           4.05          1.07        0\n",
              "1   2           6.01          3.00           4.06          1.04        1\n",
              "2   3           6.03          2.07           4.09          1.08        0\n",
              "3   4           5.08          2.07           3.09          1.02        1\n",
              "4   5           6.04          2.07           5.03          1.09        0"
            ],
            "text/html": [
              "\n",
              "  <div id=\"df-a83cd823-d165-41b3-87f9-ec3a6e4de338\">\n",
              "    <div class=\"colab-df-container\">\n",
              "      <div>\n",
              "<style scoped>\n",
              "    .dataframe tbody tr th:only-of-type {\n",
              "        vertical-align: middle;\n",
              "    }\n",
              "\n",
              "    .dataframe tbody tr th {\n",
              "        vertical-align: top;\n",
              "    }\n",
              "\n",
              "    .dataframe thead th {\n",
              "        text-align: right;\n",
              "    }\n",
              "</style>\n",
              "<table border=\"1\" class=\"dataframe\">\n",
              "  <thead>\n",
              "    <tr style=\"text-align: right;\">\n",
              "      <th></th>\n",
              "      <th>Id</th>\n",
              "      <th>SepalLengthCm</th>\n",
              "      <th>SepalWidthCm</th>\n",
              "      <th>PetalLengthCm</th>\n",
              "      <th>PetalWidthCm</th>\n",
              "      <th>Species</th>\n",
              "    </tr>\n",
              "  </thead>\n",
              "  <tbody>\n",
              "    <tr>\n",
              "      <th>0</th>\n",
              "      <td>1</td>\n",
              "      <td>4.09</td>\n",
              "      <td>2.05</td>\n",
              "      <td>4.05</td>\n",
              "      <td>1.07</td>\n",
              "      <td>0</td>\n",
              "    </tr>\n",
              "    <tr>\n",
              "      <th>1</th>\n",
              "      <td>2</td>\n",
              "      <td>6.01</td>\n",
              "      <td>3.00</td>\n",
              "      <td>4.06</td>\n",
              "      <td>1.04</td>\n",
              "      <td>1</td>\n",
              "    </tr>\n",
              "    <tr>\n",
              "      <th>2</th>\n",
              "      <td>3</td>\n",
              "      <td>6.03</td>\n",
              "      <td>2.07</td>\n",
              "      <td>4.09</td>\n",
              "      <td>1.08</td>\n",
              "      <td>0</td>\n",
              "    </tr>\n",
              "    <tr>\n",
              "      <th>3</th>\n",
              "      <td>4</td>\n",
              "      <td>5.08</td>\n",
              "      <td>2.07</td>\n",
              "      <td>3.09</td>\n",
              "      <td>1.02</td>\n",
              "      <td>1</td>\n",
              "    </tr>\n",
              "    <tr>\n",
              "      <th>4</th>\n",
              "      <td>5</td>\n",
              "      <td>6.04</td>\n",
              "      <td>2.07</td>\n",
              "      <td>5.03</td>\n",
              "      <td>1.09</td>\n",
              "      <td>0</td>\n",
              "    </tr>\n",
              "  </tbody>\n",
              "</table>\n",
              "</div>\n",
              "      <button class=\"colab-df-convert\" onclick=\"convertToInteractive('df-a83cd823-d165-41b3-87f9-ec3a6e4de338')\"\n",
              "              title=\"Convert this dataframe to an interactive table.\"\n",
              "              style=\"display:none;\">\n",
              "        \n",
              "  <svg xmlns=\"http://www.w3.org/2000/svg\" height=\"24px\"viewBox=\"0 0 24 24\"\n",
              "       width=\"24px\">\n",
              "    <path d=\"M0 0h24v24H0V0z\" fill=\"none\"/>\n",
              "    <path d=\"M18.56 5.44l.94 2.06.94-2.06 2.06-.94-2.06-.94-.94-2.06-.94 2.06-2.06.94zm-11 1L8.5 8.5l.94-2.06 2.06-.94-2.06-.94L8.5 2.5l-.94 2.06-2.06.94zm10 10l.94 2.06.94-2.06 2.06-.94-2.06-.94-.94-2.06-.94 2.06-2.06.94z\"/><path d=\"M17.41 7.96l-1.37-1.37c-.4-.4-.92-.59-1.43-.59-.52 0-1.04.2-1.43.59L10.3 9.45l-7.72 7.72c-.78.78-.78 2.05 0 2.83L4 21.41c.39.39.9.59 1.41.59.51 0 1.02-.2 1.41-.59l7.78-7.78 2.81-2.81c.8-.78.8-2.07 0-2.86zM5.41 20L4 18.59l7.72-7.72 1.47 1.35L5.41 20z\"/>\n",
              "  </svg>\n",
              "      </button>\n",
              "      \n",
              "  <style>\n",
              "    .colab-df-container {\n",
              "      display:flex;\n",
              "      flex-wrap:wrap;\n",
              "      gap: 12px;\n",
              "    }\n",
              "\n",
              "    .colab-df-convert {\n",
              "      background-color: #E8F0FE;\n",
              "      border: none;\n",
              "      border-radius: 50%;\n",
              "      cursor: pointer;\n",
              "      display: none;\n",
              "      fill: #1967D2;\n",
              "      height: 32px;\n",
              "      padding: 0 0 0 0;\n",
              "      width: 32px;\n",
              "    }\n",
              "\n",
              "    .colab-df-convert:hover {\n",
              "      background-color: #E2EBFA;\n",
              "      box-shadow: 0px 1px 2px rgba(60, 64, 67, 0.3), 0px 1px 3px 1px rgba(60, 64, 67, 0.15);\n",
              "      fill: #174EA6;\n",
              "    }\n",
              "\n",
              "    [theme=dark] .colab-df-convert {\n",
              "      background-color: #3B4455;\n",
              "      fill: #D2E3FC;\n",
              "    }\n",
              "\n",
              "    [theme=dark] .colab-df-convert:hover {\n",
              "      background-color: #434B5C;\n",
              "      box-shadow: 0px 1px 3px 1px rgba(0, 0, 0, 0.15);\n",
              "      filter: drop-shadow(0px 1px 2px rgba(0, 0, 0, 0.3));\n",
              "      fill: #FFFFFF;\n",
              "    }\n",
              "  </style>\n",
              "\n",
              "      <script>\n",
              "        const buttonEl =\n",
              "          document.querySelector('#df-a83cd823-d165-41b3-87f9-ec3a6e4de338 button.colab-df-convert');\n",
              "        buttonEl.style.display =\n",
              "          google.colab.kernel.accessAllowed ? 'block' : 'none';\n",
              "\n",
              "        async function convertToInteractive(key) {\n",
              "          const element = document.querySelector('#df-a83cd823-d165-41b3-87f9-ec3a6e4de338');\n",
              "          const dataTable =\n",
              "            await google.colab.kernel.invokeFunction('convertToInteractive',\n",
              "                                                     [key], {});\n",
              "          if (!dataTable) return;\n",
              "\n",
              "          const docLinkHtml = 'Like what you see? Visit the ' +\n",
              "            '<a target=\"_blank\" href=https://colab.research.google.com/notebooks/data_table.ipynb>data table notebook</a>'\n",
              "            + ' to learn more about interactive tables.';\n",
              "          element.innerHTML = '';\n",
              "          dataTable['output_type'] = 'display_data';\n",
              "          await google.colab.output.renderOutput(dataTable, element);\n",
              "          const docLink = document.createElement('div');\n",
              "          docLink.innerHTML = docLinkHtml;\n",
              "          element.appendChild(docLink);\n",
              "        }\n",
              "      </script>\n",
              "    </div>\n",
              "  </div>\n",
              "  "
            ]
          },
          "metadata": {},
          "execution_count": 5
        }
      ]
    },
    {
      "cell_type": "code",
      "source": [
        "print(irisDataset)"
      ],
      "metadata": {
        "colab": {
          "base_uri": "https://localhost:8080/"
        },
        "id": "x0Zbyl2DLNuZ",
        "outputId": "d095ae1c-f33f-4d47-9b65-5803bc5b526a"
      },
      "execution_count": 6,
      "outputs": [
        {
          "output_type": "stream",
          "name": "stdout",
          "text": [
            "     Id  SepalLengthCm  SepalWidthCm  PetalLengthCm  PetalWidthCm  Species\n",
            "0     1           4.09          2.05           4.05          1.07        0\n",
            "1     2           6.01          3.00           4.06          1.04        1\n",
            "2     3           6.03          2.07           4.09          1.08        0\n",
            "3     4           5.08          2.07           3.09          1.02        1\n",
            "4     5           6.04          2.07           5.03          1.09        0\n",
            "..  ...            ...           ...            ...           ...      ...\n",
            "95   96           6.04          3.02           5.03          2.03        0\n",
            "96   97           6.07          2.05           5.08          1.08        0\n",
            "97   98           6.02          2.08           4.08          1.08        0\n",
            "98   99           7.00          3.02           4.07          1.04        1\n",
            "99  100           6.05          3.00           5.02          2.00        0\n",
            "\n",
            "[100 rows x 6 columns]\n"
          ]
        }
      ]
    },
    {
      "cell_type": "code",
      "source": [
        "irisDataset = irisDataset.drop(labels=\"Id\", axis=1)"
      ],
      "metadata": {
        "id": "SaTRlkBCKcCw"
      },
      "execution_count": 7,
      "outputs": []
    },
    {
      "cell_type": "code",
      "source": [
        "print(irisDataset)"
      ],
      "metadata": {
        "colab": {
          "base_uri": "https://localhost:8080/"
        },
        "id": "r3uNeo-ILffw",
        "outputId": "6d53ec66-c82f-4280-ad05-e254763f1c1a"
      },
      "execution_count": 8,
      "outputs": [
        {
          "output_type": "stream",
          "name": "stdout",
          "text": [
            "    SepalLengthCm  SepalWidthCm  PetalLengthCm  PetalWidthCm  Species\n",
            "0            4.09          2.05           4.05          1.07        0\n",
            "1            6.01          3.00           4.06          1.04        1\n",
            "2            6.03          2.07           4.09          1.08        0\n",
            "3            5.08          2.07           3.09          1.02        1\n",
            "4            6.04          2.07           5.03          1.09        0\n",
            "..            ...           ...            ...           ...      ...\n",
            "95           6.04          3.02           5.03          2.03        0\n",
            "96           6.07          2.05           5.08          1.08        0\n",
            "97           6.02          2.08           4.08          1.08        0\n",
            "98           7.00          3.02           4.07          1.04        1\n",
            "99           6.05          3.00           5.02          2.00        0\n",
            "\n",
            "[100 rows x 5 columns]\n"
          ]
        }
      ]
    },
    {
      "cell_type": "code",
      "source": [
        "irisDataset = irisDataset.to_numpy()"
      ],
      "metadata": {
        "id": "6bFx-jlWKlL-"
      },
      "execution_count": 9,
      "outputs": []
    },
    {
      "cell_type": "code",
      "source": [
        "print(irisDataset)"
      ],
      "metadata": {
        "id": "QIvv5gZ0Lnq4",
        "colab": {
          "base_uri": "https://localhost:8080/"
        },
        "outputId": "18a29690-cf5e-49d0-d129-8147416045f5"
      },
      "execution_count": 10,
      "outputs": [
        {
          "output_type": "stream",
          "name": "stdout",
          "text": [
            "[[4.09 2.05 4.05 1.07 0.  ]\n",
            " [6.01 3.   4.06 1.04 1.  ]\n",
            " [6.03 2.07 4.09 1.08 0.  ]\n",
            " [5.08 2.07 3.09 1.02 1.  ]\n",
            " [6.04 2.07 5.03 1.09 0.  ]\n",
            " [7.07 3.   6.01 2.03 0.  ]\n",
            " [6.03 2.03 4.04 1.03 1.  ]\n",
            " [5.02 2.07 3.09 1.04 1.  ]\n",
            " [6.03 2.05 4.09 1.05 1.  ]\n",
            " [5.06 2.09 3.06 1.03 1.  ]\n",
            " [6.   2.02 4.   1.   1.  ]\n",
            " [6.09 3.01 5.04 2.01 0.  ]\n",
            " [5.07 2.06 3.05 1.   1.  ]\n",
            " [5.   2.   3.05 1.   1.  ]\n",
            " [6.02 2.02 4.05 1.05 1.  ]\n",
            " [6.07 3.   5.02 2.03 0.  ]\n",
            " [6.03 3.04 5.06 2.04 0.  ]\n",
            " [4.09 2.04 3.03 1.   1.  ]\n",
            " [5.   2.03 3.03 1.   1.  ]\n",
            " [7.06 3.   6.06 2.01 0.  ]\n",
            " [7.02 3.06 6.01 2.05 0.  ]\n",
            " [7.03 2.09 6.03 1.08 0.  ]\n",
            " [6.06 3.   4.04 1.04 1.  ]\n",
            " [6.04 3.01 5.05 1.08 0.  ]\n",
            " [5.05 2.06 4.04 1.02 1.  ]\n",
            " [5.04 3.   4.05 1.05 1.  ]\n",
            " [6.06 2.09 4.06 1.03 1.  ]\n",
            " [6.07 3.   5.   1.07 1.  ]\n",
            " [5.05 2.03 4.   1.03 1.  ]\n",
            " [6.   3.04 4.05 1.06 1.  ]\n",
            " [6.01 2.09 4.07 1.04 1.  ]\n",
            " [6.09 3.01 5.01 2.03 0.  ]\n",
            " [5.07 3.   4.02 1.02 1.  ]\n",
            " [6.01 2.08 4.   1.03 1.  ]\n",
            " [6.02 3.04 5.04 2.03 0.  ]\n",
            " [6.07 3.01 5.06 2.04 0.  ]\n",
            " [6.08 2.08 4.08 1.04 1.  ]\n",
            " [6.   3.   4.08 1.08 0.  ]\n",
            " [5.09 3.   5.01 1.08 0.  ]\n",
            " [5.06 2.08 4.09 2.   0.  ]\n",
            " [6.04 2.08 5.06 2.02 0.  ]\n",
            " [6.03 2.08 5.01 1.05 0.  ]\n",
            " [5.06 3.   4.05 1.05 1.  ]\n",
            " [5.05 2.04 3.08 1.01 1.  ]\n",
            " [5.06 2.05 3.09 1.01 1.  ]\n",
            " [6.07 3.03 5.07 2.01 0.  ]\n",
            " [5.06 2.07 4.02 1.03 1.  ]\n",
            " [5.05 2.04 3.07 1.   1.  ]\n",
            " [6.01 3.   4.09 1.08 0.  ]\n",
            " [6.02 2.09 4.03 1.03 1.  ]\n",
            " [6.03 2.09 5.06 1.08 0.  ]\n",
            " [7.07 2.06 6.09 2.03 0.  ]\n",
            " [6.07 3.01 4.04 1.04 1.  ]\n",
            " [7.01 3.   5.09 2.01 0.  ]\n",
            " [6.01 2.06 5.06 1.04 0.  ]\n",
            " [5.09 3.   4.02 1.05 1.  ]\n",
            " [6.03 3.03 4.07 1.06 1.  ]\n",
            " [7.07 3.08 6.07 2.02 0.  ]\n",
            " [6.05 3.02 5.01 2.   0.  ]\n",
            " [6.03 3.03 6.   2.05 0.  ]\n",
            " [6.05 2.08 4.06 1.05 1.  ]\n",
            " [6.08 3.   5.05 2.01 0.  ]\n",
            " [6.03 2.05 5.   1.09 0.  ]\n",
            " [5.08 2.07 4.01 1.   1.  ]\n",
            " [7.02 3.   5.08 1.06 0.  ]\n",
            " [5.08 2.07 5.01 1.09 0.  ]\n",
            " [7.07 2.08 6.07 2.   0.  ]\n",
            " [5.06 3.   4.01 1.03 1.  ]\n",
            " [5.01 2.05 3.   1.01 1.  ]\n",
            " [6.04 3.02 4.05 1.05 1.  ]\n",
            " [6.   2.07 5.01 1.06 1.  ]\n",
            " [7.09 3.08 6.04 2.   0.  ]\n",
            " [5.07 2.09 4.02 1.03 1.  ]\n",
            " [6.09 3.01 4.09 1.05 1.  ]\n",
            " [6.04 2.08 5.06 2.01 0.  ]\n",
            " [5.08 2.07 5.01 1.09 0.  ]\n",
            " [6.   2.02 5.   1.05 0.  ]\n",
            " [6.05 3.   5.08 2.02 0.  ]\n",
            " [6.01 2.08 4.07 1.02 1.  ]\n",
            " [6.05 3.   5.05 1.08 0.  ]\n",
            " [7.02 3.02 6.   1.08 0.  ]\n",
            " [6.07 3.01 4.07 1.05 1.  ]\n",
            " [5.08 2.06 4.   1.02 1.  ]\n",
            " [5.09 3.02 4.08 1.08 1.  ]\n",
            " [7.04 2.08 6.01 1.09 0.  ]\n",
            " [5.08 2.08 5.01 2.04 0.  ]\n",
            " [5.05 2.05 4.   1.03 1.  ]\n",
            " [5.07 2.08 4.01 1.03 1.  ]\n",
            " [5.07 2.05 5.   2.   0.  ]\n",
            " [6.08 3.02 5.09 2.03 0.  ]\n",
            " [6.04 2.09 4.03 1.03 1.  ]\n",
            " [6.09 3.02 5.07 2.03 0.  ]\n",
            " [5.07 2.08 4.05 1.03 1.  ]\n",
            " [6.07 3.03 5.07 2.05 0.  ]\n",
            " [6.   2.09 4.05 1.05 1.  ]\n",
            " [6.04 3.02 5.03 2.03 0.  ]\n",
            " [6.07 2.05 5.08 1.08 0.  ]\n",
            " [6.02 2.08 4.08 1.08 0.  ]\n",
            " [7.   3.02 4.07 1.04 1.  ]\n",
            " [6.05 3.   5.02 2.   0.  ]]\n"
          ]
        }
      ]
    },
    {
      "cell_type": "code",
      "source": [
        "dataTraining = np.concatenate((irisDataset[0:40, :], irisDataset[50:90, :]),\n",
        "                              axis=0)\n",
        "dataTesting = np.concatenate((irisDataset[40:50, :], irisDataset[90:100, :]),\n",
        "                             axis=0)"
      ],
      "metadata": {
        "id": "gY63i_PdLuS9"
      },
      "execution_count": 11,
      "outputs": []
    },
    {
      "cell_type": "code",
      "source": [
        "inputTraining = dataTraining[:, 0:4]\n",
        "inputTesting = dataTesting[:, 0:4]\n",
        "labelTraining = dataTraining[:, 4]\n",
        "labelTesting = dataTesting[:, 4]"
      ],
      "metadata": {
        "id": "I_XTcP1pMUFg"
      },
      "execution_count": 12,
      "outputs": []
    },
    {
      "cell_type": "code",
      "source": [
        "print(labelTraining)\n",
        "len(labelTraining)"
      ],
      "metadata": {
        "colab": {
          "base_uri": "https://localhost:8080/"
        },
        "id": "-XFQCjcPM4Zk",
        "outputId": "8e7719c4-4d2b-4775-f666-abcf0386eef0"
      },
      "execution_count": 13,
      "outputs": [
        {
          "output_type": "stream",
          "name": "stdout",
          "text": [
            "[0. 1. 0. 1. 0. 0. 1. 1. 1. 1. 1. 0. 1. 1. 1. 0. 0. 1. 1. 0. 0. 0. 1. 0.\n",
            " 1. 1. 1. 1. 1. 1. 1. 0. 1. 1. 0. 0. 1. 0. 0. 0. 0. 0. 1. 0. 0. 1. 1. 0.\n",
            " 0. 0. 1. 0. 0. 1. 0. 0. 0. 1. 1. 1. 1. 0. 1. 1. 0. 0. 0. 0. 1. 0. 0. 1.\n",
            " 1. 1. 0. 0. 1. 1. 0. 0.]\n"
          ]
        },
        {
          "output_type": "execute_result",
          "data": {
            "text/plain": [
              "80"
            ]
          },
          "metadata": {},
          "execution_count": 13
        }
      ]
    },
    {
      "cell_type": "code",
      "source": [
        "print(labelTesting)\n",
        "len(labelTesting)"
      ],
      "metadata": {
        "colab": {
          "base_uri": "https://localhost:8080/"
        },
        "id": "O2IzQmA1NGYx",
        "outputId": "e415c56e-6091-4913-8e67-77a12d1bf49a"
      },
      "execution_count": 14,
      "outputs": [
        {
          "output_type": "stream",
          "name": "stdout",
          "text": [
            "[0. 0. 1. 1. 1. 0. 1. 1. 0. 1. 1. 0. 1. 0. 1. 0. 0. 0. 1. 0.]\n"
          ]
        },
        {
          "output_type": "execute_result",
          "data": {
            "text/plain": [
              "20"
            ]
          },
          "metadata": {},
          "execution_count": 14
        }
      ]
    },
    {
      "cell_type": "code",
      "source": [
        "model = tree.DecisionTreeClassifier()"
      ],
      "metadata": {
        "id": "3q0GDx8vNA6c"
      },
      "execution_count": 15,
      "outputs": []
    },
    {
      "cell_type": "code",
      "source": [
        "model = model.fit(inputTraining, labelTraining)"
      ],
      "metadata": {
        "id": "oyL7R0bRNM7c"
      },
      "execution_count": 16,
      "outputs": []
    },
    {
      "cell_type": "code",
      "source": [
        "hasilPrediksi = model.predict(inputTesting)\n",
        "print(\"Label Sebenarnya : \", labelTesting)\n",
        "print(\"Hasil Prediksi : \", hasilPrediksi)"
      ],
      "metadata": {
        "colab": {
          "base_uri": "https://localhost:8080/"
        },
        "id": "5drTVIR2NWo1",
        "outputId": "4046cc59-1024-48b0-f934-5f9865ae8084"
      },
      "execution_count": 17,
      "outputs": [
        {
          "output_type": "stream",
          "name": "stdout",
          "text": [
            "Label Sebenarnya :  [0. 0. 1. 1. 1. 0. 1. 1. 0. 1. 1. 0. 1. 0. 1. 0. 0. 0. 1. 0.]\n",
            "Hasil Prediksi :  [0. 1. 1. 1. 1. 0. 1. 1. 0. 1. 1. 0. 1. 0. 1. 0. 0. 0. 1. 0.]\n"
          ]
        }
      ]
    },
    {
      "cell_type": "code",
      "source": [
        "prediksiBenar = (hasilPrediksi == labelTesting).sum()\n",
        "prediksiSalah = (hasilPrediksi != labelTesting).sum()\n",
        "print(\"Prediksi Benar : \", prediksiBenar, \"data\")\n",
        "print(\"Prediksi Salah : \", prediksiSalah, \"data\")\n",
        "print(\"Akurasi : \", prediksiBenar/(prediksiBenar+prediksiSalah) * 100, \"%\")"
      ],
      "metadata": {
        "colab": {
          "base_uri": "https://localhost:8080/"
        },
        "id": "MRP3JRx_NnWO",
        "outputId": "93d08733-3c06-4862-c035-0b9f5772670b"
      },
      "execution_count": 18,
      "outputs": [
        {
          "output_type": "stream",
          "name": "stdout",
          "text": [
            "Prediksi Benar :  19 data\n",
            "Prediksi Salah :  1 data\n",
            "Akurasi :  95.0 %\n"
          ]
        }
      ]
    }
  ]
}